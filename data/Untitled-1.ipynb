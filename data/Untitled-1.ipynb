{
 "cells": [
  {
   "cell_type": "code",
   "execution_count": 1,
   "metadata": {},
   "outputs": [],
   "source": [
    "import torch"
   ]
  },
  {
   "cell_type": "code",
   "execution_count": null,
   "metadata": {},
   "outputs": [
    {
     "data": {
      "text/plain": [
       "4"
      ]
     },
     "execution_count": 3,
     "metadata": {},
     "output_type": "execute_result"
    }
   ],
   "source": [
    "word = torch.tensor([1,2,3,4])\n",
    "max(word).item()"
   ]
  },
  {
   "cell_type": "code",
   "execution_count": 4,
   "metadata": {},
   "outputs": [
    {
     "data": {
      "text/plain": [
       "tensor(4)"
      ]
     },
     "execution_count": 4,
     "metadata": {},
     "output_type": "execute_result"
    }
   ],
   "source": [
    "torch.max(m)"
   ]
  },
  {
   "cell_type": "code",
   "execution_count": 25,
   "metadata": {},
   "outputs": [
    {
     "name": "stdout",
     "output_type": "stream",
     "text": [
      "tensor([[ 1,  4,  5, -1, -1],\n",
      "        [ 4,  5,  6,  7, -1],\n",
      "        [ 6,  7,  8,  8,  8]], dtype=torch.int16)\n"
     ]
    }
   ],
   "source": [
    "int_type=torch.int16\n",
    "device='cpu'\n",
    "words = [[1,4,5], [4,5,6,7], [6,7,8,8,8]]\n",
    "m = max([len(word) for word in words])\n",
    "words = [torch.cat(\n",
    "        (torch.tensor(word, dtype=int_type, device=device),\n",
    "        -1 * torch.ones(m - len(word), dtype=int_type, device=device)),\n",
    "        dim = 0\n",
    "    ) for word in words]\n",
    "words = torch.cat(tuple(word.unsqueeze(0) for word in words), dim=0)\n",
    "print(words)"
   ]
  },
  {
   "cell_type": "code",
   "execution_count": 26,
   "metadata": {},
   "outputs": [
    {
     "name": "stdout",
     "output_type": "stream",
     "text": [
      "tensor([[ True,  True,  True, False, False],\n",
      "        [ True,  True,  True,  True, False],\n",
      "        [ True,  True,  True,  True,  True]])\n"
     ]
    }
   ],
   "source": [
    "mask = torch.where(words == -1, False, True)\n",
    "print(mask)"
   ]
  },
  {
   "cell_type": "code",
   "execution_count": 31,
   "metadata": {},
   "outputs": [
    {
     "name": "stdout",
     "output_type": "stream",
     "text": [
      "tensor([[[ 1,  4,  5, -1],\n",
      "         [ 4,  5,  6,  7],\n",
      "         [ 6,  7,  8,  8]],\n",
      "\n",
      "        [[ 4,  5, -1, -1],\n",
      "         [ 5,  6,  7, -1],\n",
      "         [ 7,  8,  8,  8]]], dtype=torch.int16)\n"
     ]
    }
   ],
   "source": [
    "pairs = torch.stack((words[:, :-1], words[:, 1:]), dim=0)\n",
    "print(pairs)"
   ]
  },
  {
   "cell_type": "code",
   "execution_count": null,
   "metadata": {},
   "outputs": [
    {
     "name": "stdout",
     "output_type": "stream",
     "text": [
      "tensor([[[-1,  1,  4,  5],\n",
      "         [ 7,  4,  5,  6],\n",
      "         [ 8,  6,  7,  8]],\n",
      "\n",
      "        [[-1,  4,  5, -1],\n",
      "         [-1,  5,  6,  7],\n",
      "         [ 8,  7,  8,  8]]], dtype=torch.int16)\n",
      "tensor([1, 1, 1, 1])\n"
     ]
    }
   ],
   "source": [
    "unique, counts = torch.unique(pairs, sorted=False, return_counts=True, dim=1)\n",
    "print(unique)\n",
    "print(counts)"
   ]
  },
  {
   "cell_type": "code",
   "execution_count": null,
   "metadata": {},
   "outputs": [],
   "source": []
  }
 ],
 "metadata": {
  "kernelspec": {
   "display_name": "venv",
   "language": "python",
   "name": "python3"
  },
  "language_info": {
   "codemirror_mode": {
    "name": "ipython",
    "version": 3
   },
   "file_extension": ".py",
   "mimetype": "text/x-python",
   "name": "python",
   "nbconvert_exporter": "python",
   "pygments_lexer": "ipython3",
   "version": "3.12.4"
  }
 },
 "nbformat": 4,
 "nbformat_minor": 2
}
